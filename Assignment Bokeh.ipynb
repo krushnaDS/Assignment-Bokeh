{
 "cells": [
  {
   "cell_type": "code",
   "execution_count": 4,
   "id": "501337b6",
   "metadata": {},
   "outputs": [],
   "source": [
    "##### Q1. How can you create a Bokeh plot using Python code?\n",
    "\n",
    "from bokeh.plotting import figure, show\n",
    "\n",
    "p = figure(title=\"My Plot\", x_axis_label=\"X-Axis\", y_axis_label=\"Y-Axis\")\n",
    "x = [2, 5, 7, 1, 8]\n",
    "y = [4, 2, 7, 6, 5]\n",
    "p.circle(x,y,size=10,color='red')\n",
    "show(p)"
   ]
  },
  {
   "cell_type": "markdown",
   "id": "49e931d9",
   "metadata": {},
   "source": [
    "##### Q2. What are glyphs in Bokeh, and how can you add them to a Bokeh plot? Explain with an example.\n",
    "\n",
    "In bokeh, glyphs are the fundamental building blocks to visualize data on a plot.They represent geometric shapes like circles, lines, squares etc and each data point is mapped to a glyph on the plot.\n",
    "\n",
    "from bokeh.plotting import figure, show\n",
    "\n",
    "p = figure(title=\"Scatter Plot\")\n",
    "\n",
    "x = [1, 2, 3, 4, 5]\n",
    "\n",
    "y = [4, 6, 5, 8, 2]\n",
    "\n",
    "p.circle(x, y, size=10, color=\"red\", legend_label=\"Circles\")\n",
    "\n",
    "show(p)"
   ]
  },
  {
   "cell_type": "markdown",
   "id": "51ab4c90",
   "metadata": {},
   "source": [
    "##### Q3. How can you customize the appearance of a Bokeh plot, including the axes, title, and legend?\n",
    "\n",
    "1. Axes\n",
    "\n",
    "p = figure(title=\"Custom Plot\", x_axis_label=\"X-Values\", y_axis_label=\"Y-Values\")\n",
    "\n",
    "2. Axis range\n",
    "\n",
    "p.x_range = (0, 10)  \n",
    "\n",
    "p.y_range = (20, 50) \n",
    "\n",
    "3. Axis appearance\n",
    "\n",
    "p.xaxis.minor_tick_line_color = None\n",
    "\n",
    "p.yaxis.grid_line_color = \"lightgray\"\n",
    "\n",
    "4. Title\n",
    "\n",
    "p = figure(title=\"My Customized Plot\")"
   ]
  },
  {
   "cell_type": "markdown",
   "id": "a22bacc2",
   "metadata": {},
   "source": [
    "##### Q4. What is a Bokeh server, and how can you use it to create interactive plots that can be updated in real time?\n",
    "\n",
    "A Bokeh server is a component of Bokeh that allows you to build interactive web applications that connect a user interface to live Python code running on a server. This enables you to create plots that can be updated in real-time based on user interaction or external data updates.\n",
    "\n",
    "Here's how Bokeh server facilitates real-time interactive plots:\n",
    "\n",
    "1. Decoupled Design\n",
    "2. Server-side Logic\n",
    "3. Real-time Updates\n",
    "4. Server response\n"
   ]
  },
  {
   "cell_type": "markdown",
   "id": "f295b367",
   "metadata": {},
   "source": [
    "##### Q5. How can you embed a Bokeh plot into a web page or dashboard using Flask or Django?\n",
    "\n",
    "There are two types to embed Bokeh plots into web pages or dashboards using flask:\n",
    "\n",
    "1. Static Embedding:\n",
    "This approach is suitable for simpler scenarios where you want to display a pre-generated Bokeh plot on a web page. Here's the general process:\n",
    "\n",
    "- Generate Bokeh Plot: Use Bokeh's Python libraries to create your plot and save it as a standalone HTML document with necessary JavaScript and CSS resources.\n",
    "- Flask/Django Template: In your Flask or Django template file, reference the generated HTML document using an <iframe> tag or directly include the JavaScript and render the plot using BokehJS.\n",
    "    \n",
    "2. Bokeh Server Integration:\n",
    "\n",
    "This method is ideal for interactive plots or those requiring real-time updates. Here's the workflow:\n",
    "\n",
    "- Bokeh Server Application: Develop a Bokeh server application using Bokeh's server libraries. This application handles plot generation, updates, and data processing.\n",
    "- Flask/Django Route: Create a route in your Flask or Django application that connects to the Bokeh server."
   ]
  },
  {
   "cell_type": "code",
   "execution_count": null,
   "id": "0756a512",
   "metadata": {},
   "outputs": [],
   "source": []
  }
 ],
 "metadata": {
  "kernelspec": {
   "display_name": "Python 3 (ipykernel)",
   "language": "python",
   "name": "python3"
  },
  "language_info": {
   "codemirror_mode": {
    "name": "ipython",
    "version": 3
   },
   "file_extension": ".py",
   "mimetype": "text/x-python",
   "name": "python",
   "nbconvert_exporter": "python",
   "pygments_lexer": "ipython3",
   "version": "3.10.9"
  }
 },
 "nbformat": 4,
 "nbformat_minor": 5
}
